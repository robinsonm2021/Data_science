{
  "nbformat": 4,
  "nbformat_minor": 0,
  "metadata": {
    "colab": {
      "provenance": [],
      "collapsed_sections": [],
      "include_colab_link": true
    },
    "kernelspec": {
      "name": "python3",
      "display_name": "Python 3"
    },
    "language_info": {
      "name": "python"
    }
  },
  "cells": [
    {
      "cell_type": "markdown",
      "metadata": {
        "id": "view-in-github",
        "colab_type": "text"
      },
      "source": [
        "<a href=\"https://colab.research.google.com/github/robinsonm2021/Data_science/blob/main/Matthew_Robinson_Stats_Midterm.ipynb\" target=\"_parent\"><img src=\"https://colab.research.google.com/assets/colab-badge.svg\" alt=\"Open In Colab\"/></a>"
      ]
    },
    {
      "cell_type": "markdown",
      "source": [
        "# STA 2023 Midterm Project\n",
        "\n",
        "Directions:\n",
        "\n",
        "*   Use any and all resources available to you\n",
        "*   Comment and explain the code\n",
        "*   Answer the questions to the best of your abilities\n",
        "*   There are no points for pain: ask for help\n",
        "\n",
        "Save this notebook to your GitHub and submit the link."
      ],
      "metadata": {
        "id": "WyqM99KnfwFM"
      }
    },
    {
      "cell_type": "code",
      "source": [
        "import numpy as np\n",
        "import matplotlib.pyplot as plt"
      ],
      "metadata": {
        "id": "ZE7xzRUigBYy"
      },
      "execution_count": 10,
      "outputs": []
    },
    {
      "cell_type": "code",
      "source": [
        "import pandas as pd\n",
        "def get_database(url): # This function loads the google spreadsheet\n",
        "    url_head = \"https://docs.google.com/spreadsheets/d/\"\n",
        "    url_foot = \"/gviz/tq?tqx=out:csv&sheet=\"\n",
        "    url_body = url.split('/')[5]\n",
        "    sheet_name = \"1\"\n",
        "    url_csv = url_head + url_body + url_foot + sheet_name\n",
        "    df = pd.read_csv(url_csv, sep=',', skiprows=0)\n",
        "    return df"
      ],
      "metadata": {
        "id": "ZzNtP6Rz5jpm"
      },
      "execution_count": 11,
      "outputs": []
    },
    {
      "cell_type": "markdown",
      "source": [
        "## Part 1: Getting your data\n",
        "\n",
        "Create a google form to input your data.\n",
        "Follow the same method as [Lab 5](https://colab.research.google.com/drive/1zYvyhrz2wVnJXlZqj_PpxOxplfS3LN9Y?usp=sharing)."
      ],
      "metadata": {
        "id": "tkn5UxLMg4GS"
      }
    },
    {
      "cell_type": "markdown",
      "source": [
        "Put your form url here:"
      ],
      "metadata": {
        "id": "e3G1Q_8rjlLI"
      }
    },
    {
      "cell_type": "code",
      "source": [
        "url = 'https://docs.google.com/spreadsheets/d/1xfI2-tKh-NRx2nMtx9JMtCFMcmZ7zo1_SUFymLydv0E/edit?usp=sharing' #your google forms or any data you want to code "
      ],
      "metadata": {
        "id": "PfAztwghjql2"
      },
      "execution_count": 12,
      "outputs": []
    },
    {
      "cell_type": "code",
      "source": [
        "data = get_database(url)# use this function to show what data in the url is."
      ],
      "metadata": {
        "id": "_SA4UhnqjyhY"
      },
      "execution_count": 13,
      "outputs": []
    },
    {
      "cell_type": "code",
      "source": [
        "data# this is the data from the URL."
      ],
      "metadata": {
        "colab": {
          "base_uri": "https://localhost:8080/",
          "height": 206
        },
        "id": "qPjyh81yP5DH",
        "outputId": "6ac43134-ac2e-4958-df7a-63c926f287d4"
      },
      "execution_count": 14,
      "outputs": [
        {
          "output_type": "execute_result",
          "data": {
            "text/plain": [
              "             Timestamp          Object Diameter Circumference  Unnamed: 4\n",
              "0  10/26/2022 10:38:38          Candle  8.89 Cm      30.48 Cm         NaN\n",
              "1  10/26/2022 10:38:46    Water Bottle  6.51 Cm      24.13 Cm         NaN\n",
              "2  10/26/2022 10:38:55     Lysol Spray  6.35 Cm      21.59 Cm         NaN\n",
              "3  10/26/2022 10:39:04  Used Tape Role  3.97 Cm       12.7 Cm         NaN\n",
              "4  10/26/2022 10:39:23      Poker Chip  3.49 Cm      11.43 Cm         NaN"
            ],
            "text/html": [
              "\n",
              "  <div id=\"df-6fab3fa5-273c-48c0-ae42-f8ba6a8f35c9\">\n",
              "    <div class=\"colab-df-container\">\n",
              "      <div>\n",
              "<style scoped>\n",
              "    .dataframe tbody tr th:only-of-type {\n",
              "        vertical-align: middle;\n",
              "    }\n",
              "\n",
              "    .dataframe tbody tr th {\n",
              "        vertical-align: top;\n",
              "    }\n",
              "\n",
              "    .dataframe thead th {\n",
              "        text-align: right;\n",
              "    }\n",
              "</style>\n",
              "<table border=\"1\" class=\"dataframe\">\n",
              "  <thead>\n",
              "    <tr style=\"text-align: right;\">\n",
              "      <th></th>\n",
              "      <th>Timestamp</th>\n",
              "      <th>Object</th>\n",
              "      <th>Diameter</th>\n",
              "      <th>Circumference</th>\n",
              "      <th>Unnamed: 4</th>\n",
              "    </tr>\n",
              "  </thead>\n",
              "  <tbody>\n",
              "    <tr>\n",
              "      <th>0</th>\n",
              "      <td>10/26/2022 10:38:38</td>\n",
              "      <td>Candle</td>\n",
              "      <td>8.89 Cm</td>\n",
              "      <td>30.48 Cm</td>\n",
              "      <td>NaN</td>\n",
              "    </tr>\n",
              "    <tr>\n",
              "      <th>1</th>\n",
              "      <td>10/26/2022 10:38:46</td>\n",
              "      <td>Water Bottle</td>\n",
              "      <td>6.51 Cm</td>\n",
              "      <td>24.13 Cm</td>\n",
              "      <td>NaN</td>\n",
              "    </tr>\n",
              "    <tr>\n",
              "      <th>2</th>\n",
              "      <td>10/26/2022 10:38:55</td>\n",
              "      <td>Lysol Spray</td>\n",
              "      <td>6.35 Cm</td>\n",
              "      <td>21.59 Cm</td>\n",
              "      <td>NaN</td>\n",
              "    </tr>\n",
              "    <tr>\n",
              "      <th>3</th>\n",
              "      <td>10/26/2022 10:39:04</td>\n",
              "      <td>Used Tape Role</td>\n",
              "      <td>3.97 Cm</td>\n",
              "      <td>12.7 Cm</td>\n",
              "      <td>NaN</td>\n",
              "    </tr>\n",
              "    <tr>\n",
              "      <th>4</th>\n",
              "      <td>10/26/2022 10:39:23</td>\n",
              "      <td>Poker Chip</td>\n",
              "      <td>3.49 Cm</td>\n",
              "      <td>11.43 Cm</td>\n",
              "      <td>NaN</td>\n",
              "    </tr>\n",
              "  </tbody>\n",
              "</table>\n",
              "</div>\n",
              "      <button class=\"colab-df-convert\" onclick=\"convertToInteractive('df-6fab3fa5-273c-48c0-ae42-f8ba6a8f35c9')\"\n",
              "              title=\"Convert this dataframe to an interactive table.\"\n",
              "              style=\"display:none;\">\n",
              "        \n",
              "  <svg xmlns=\"http://www.w3.org/2000/svg\" height=\"24px\"viewBox=\"0 0 24 24\"\n",
              "       width=\"24px\">\n",
              "    <path d=\"M0 0h24v24H0V0z\" fill=\"none\"/>\n",
              "    <path d=\"M18.56 5.44l.94 2.06.94-2.06 2.06-.94-2.06-.94-.94-2.06-.94 2.06-2.06.94zm-11 1L8.5 8.5l.94-2.06 2.06-.94-2.06-.94L8.5 2.5l-.94 2.06-2.06.94zm10 10l.94 2.06.94-2.06 2.06-.94-2.06-.94-.94-2.06-.94 2.06-2.06.94z\"/><path d=\"M17.41 7.96l-1.37-1.37c-.4-.4-.92-.59-1.43-.59-.52 0-1.04.2-1.43.59L10.3 9.45l-7.72 7.72c-.78.78-.78 2.05 0 2.83L4 21.41c.39.39.9.59 1.41.59.51 0 1.02-.2 1.41-.59l7.78-7.78 2.81-2.81c.8-.78.8-2.07 0-2.86zM5.41 20L4 18.59l7.72-7.72 1.47 1.35L5.41 20z\"/>\n",
              "  </svg>\n",
              "      </button>\n",
              "      \n",
              "  <style>\n",
              "    .colab-df-container {\n",
              "      display:flex;\n",
              "      flex-wrap:wrap;\n",
              "      gap: 12px;\n",
              "    }\n",
              "\n",
              "    .colab-df-convert {\n",
              "      background-color: #E8F0FE;\n",
              "      border: none;\n",
              "      border-radius: 50%;\n",
              "      cursor: pointer;\n",
              "      display: none;\n",
              "      fill: #1967D2;\n",
              "      height: 32px;\n",
              "      padding: 0 0 0 0;\n",
              "      width: 32px;\n",
              "    }\n",
              "\n",
              "    .colab-df-convert:hover {\n",
              "      background-color: #E2EBFA;\n",
              "      box-shadow: 0px 1px 2px rgba(60, 64, 67, 0.3), 0px 1px 3px 1px rgba(60, 64, 67, 0.15);\n",
              "      fill: #174EA6;\n",
              "    }\n",
              "\n",
              "    [theme=dark] .colab-df-convert {\n",
              "      background-color: #3B4455;\n",
              "      fill: #D2E3FC;\n",
              "    }\n",
              "\n",
              "    [theme=dark] .colab-df-convert:hover {\n",
              "      background-color: #434B5C;\n",
              "      box-shadow: 0px 1px 3px 1px rgba(0, 0, 0, 0.15);\n",
              "      filter: drop-shadow(0px 1px 2px rgba(0, 0, 0, 0.3));\n",
              "      fill: #FFFFFF;\n",
              "    }\n",
              "  </style>\n",
              "\n",
              "      <script>\n",
              "        const buttonEl =\n",
              "          document.querySelector('#df-6fab3fa5-273c-48c0-ae42-f8ba6a8f35c9 button.colab-df-convert');\n",
              "        buttonEl.style.display =\n",
              "          google.colab.kernel.accessAllowed ? 'block' : 'none';\n",
              "\n",
              "        async function convertToInteractive(key) {\n",
              "          const element = document.querySelector('#df-6fab3fa5-273c-48c0-ae42-f8ba6a8f35c9');\n",
              "          const dataTable =\n",
              "            await google.colab.kernel.invokeFunction('convertToInteractive',\n",
              "                                                     [key], {});\n",
              "          if (!dataTable) return;\n",
              "\n",
              "          const docLinkHtml = 'Like what you see? Visit the ' +\n",
              "            '<a target=\"_blank\" href=https://colab.research.google.com/notebooks/data_table.ipynb>data table notebook</a>'\n",
              "            + ' to learn more about interactive tables.';\n",
              "          element.innerHTML = '';\n",
              "          dataTable['output_type'] = 'display_data';\n",
              "          await google.colab.output.renderOutput(dataTable, element);\n",
              "          const docLink = document.createElement('div');\n",
              "          docLink.innerHTML = docLinkHtml;\n",
              "          element.appendChild(docLink);\n",
              "        }\n",
              "      </script>\n",
              "    </div>\n",
              "  </div>\n",
              "  "
            ]
          },
          "metadata": {},
          "execution_count": 14
        }
      ]
    },
    {
      "cell_type": "code",
      "source": [
        "D = np.array([8.89,6.51,6.35,3.97,3.49]) # Diameter measurements in an array format\n",
        "C = np.array([30.48,24.13,21.59,12.7,11.43])# Circumference measurements in an array format"
      ],
      "metadata": {
        "id": "fxwbwMCq4uEI"
      },
      "execution_count": 15,
      "outputs": []
    },
    {
      "cell_type": "code",
      "source": [
        "a=8.89 # data from the form with letters so you can plot them later\n",
        "b=30.48\n",
        "c=6.51\n",
        "d=24.31\n",
        "e=6.35\n",
        "f=21.59\n",
        "g=3.97\n",
        "h=12.7\n",
        "i=3.49\n",
        "j=11.43"
      ],
      "metadata": {
        "id": "3gkkYdSM_ckF"
      },
      "execution_count": 22,
      "outputs": []
    },
    {
      "cell_type": "code",
      "source": [
        "C # Circumference array"
      ],
      "metadata": {
        "colab": {
          "base_uri": "https://localhost:8080/"
        },
        "id": "FTFQdStPdTyY",
        "outputId": "64dcdc2f-0c77-44fe-ddde-66241d24e994"
      },
      "execution_count": 25,
      "outputs": [
        {
          "output_type": "execute_result",
          "data": {
            "text/plain": [
              "array([30.48, 24.13, 21.59, 12.7 , 11.43])"
            ]
          },
          "metadata": {},
          "execution_count": 25
        }
      ]
    },
    {
      "cell_type": "code",
      "source": [
        "D # Diameter array"
      ],
      "metadata": {
        "colab": {
          "base_uri": "https://localhost:8080/"
        },
        "id": "mJHpL0X_Fhqd",
        "outputId": "7336dc00-da76-4653-84b1-740661be9ff9"
      },
      "execution_count": 26,
      "outputs": [
        {
          "output_type": "execute_result",
          "data": {
            "text/plain": [
              "array([8.89, 6.51, 6.35, 3.97, 3.49])"
            ]
          },
          "metadata": {},
          "execution_count": 26
        }
      ]
    },
    {
      "cell_type": "markdown",
      "source": [
        "Plot your data points"
      ],
      "metadata": {
        "id": "INpIcEh1mUKn"
      }
    },
    {
      "cell_type": "code",
      "source": [
        "x=D #converting your data sets into x and y coordinates.\n",
        "y=C"
      ],
      "metadata": {
        "id": "2-qYDfB2iwNC"
      },
      "execution_count": 27,
      "outputs": []
    },
    {
      "cell_type": "code",
      "source": [
        "np.dtype# necessary for line of best fit equations"
      ],
      "metadata": {
        "id": "fE2IS0OYjww6",
        "colab": {
          "base_uri": "https://localhost:8080/"
        },
        "outputId": "bb681fc2-e0a8-4416-872a-9f22cb017320"
      },
      "execution_count": 28,
      "outputs": [
        {
          "output_type": "execute_result",
          "data": {
            "text/plain": [
              "numpy.dtype"
            ]
          },
          "metadata": {},
          "execution_count": 28
        }
      ]
    },
    {
      "cell_type": "code",
      "source": [
        "plt.title(\"Circle Diameter vs Circumference\") #Basic graph plotting points from the data above\n",
        "\n",
        "plt.xlabel('Circle Diameter in Cm')# x-axis label\n",
        "plt.ylabel('Circumference in Cm')# y-axis label\n",
        "\n",
        "plt.plot(D,C,'g.');# the points plotted and the color and dot style"
      ],
      "metadata": {
        "id": "uoX4t7tIj8id",
        "colab": {
          "base_uri": "https://localhost:8080/",
          "height": 295
        },
        "outputId": "ef103bba-065f-40ff-aaba-432f52e00fd5"
      },
      "execution_count": 29,
      "outputs": [
        {
          "output_type": "display_data",
          "data": {
            "text/plain": [
              "<Figure size 432x288 with 1 Axes>"
            ],
            "image/png": "[encoded data removed]"
          },
          "metadata": {
            "needs_background": "light"
          }
        }
      ]
    },
    {
      "cell_type": "markdown",
      "source": [
        "## Part 2: Linear Fit\n",
        "\n",
        "Follow the steps in the [Linear Fit notebook]() to run a linear fit on your data."
      ],
      "metadata": {
        "id": "IhT_tn8ym8N8"
      }
    },
    {
      "cell_type": "markdown",
      "source": [
        "Plot the line of best fit:\n",
        "\n",
        "Use blue dots for the collected data and a red line for the estimate."
      ],
      "metadata": {
        "id": "I0KofkS9p7hu"
      }
    },
    {
      "cell_type": "code",
      "source": [
        "x# your x data set in an array format."
      ],
      "metadata": {
        "colab": {
          "base_uri": "https://localhost:8080/"
        },
        "id": "L3ZIYg3g1S4t",
        "outputId": "3633aaf0-bf4b-4ab3-ed0e-f0a4cce173da"
      },
      "execution_count": 30,
      "outputs": [
        {
          "output_type": "execute_result",
          "data": {
            "text/plain": [
              "array([8.89, 6.51, 6.35, 3.97, 3.49])"
            ]
          },
          "metadata": {},
          "execution_count": 30
        }
      ]
    },
    {
      "cell_type": "code",
      "source": [
        "best_loss = 100000 #This is an estimate of where the set could end up\n",
        "best_m = 0 #best_M guess\n",
        "best_b = 0 #best_b guess\n",
        "\n",
        "for m_guess in np.linspace(-100,100,100):# line spacing for the data of the plot\n",
        "    for b_guess in np.linspace(-100,100,100):\n",
        "        \n",
        "        y_guess = m_guess * x + b_guess #Function to get y_guess\n",
        "\n",
        "        loss = np.sum((y_guess - y)**2) #to find the losses of your data use this function\n",
        "\n",
        "        if loss < best_loss: # best loss is greater than if loss\n",
        "            \n",
        "            best_loss = loss\n",
        "            best_m = m_guess\n",
        "            best_b = b_guess "
      ],
      "metadata": {
        "id": "6u0f6HgZ6Q0n"
      },
      "execution_count": 31,
      "outputs": []
    },
    {
      "cell_type": "code",
      "source": [
        "y_guess = best_m * x + best_b # use this equation to get the y_guess for an array"
      ],
      "metadata": {
        "id": "h0Ttf0N50Kyk"
      },
      "execution_count": 32,
      "outputs": []
    },
    {
      "cell_type": "code",
      "source": [
        "y_guess# this is the y_guess array"
      ],
      "metadata": {
        "colab": {
          "base_uri": "https://localhost:8080/"
        },
        "id": "TQa9rLwE1UkI",
        "outputId": "67d808c1-3ce6-4bee-ca2d-9d13884809c3"
      },
      "execution_count": 33,
      "outputs": [
        {
          "output_type": "execute_result",
          "data": {
            "text/plain": [
              "array([29.96969697, 22.75757576, 22.27272727, 15.06060606, 13.60606061])"
            ]
          },
          "metadata": {},
          "execution_count": 33
        }
      ]
    },
    {
      "cell_type": "code",
      "source": [
        "from numpy.ma.core import mean # to get the mean of your y_guess\n",
        "mean(y_guess)"
      ],
      "metadata": {
        "colab": {
          "base_uri": "https://localhost:8080/"
        },
        "id": "5SU7_0IL5em0",
        "outputId": "fba48a74-7a5f-4eb8-faaf-04266ddd097c"
      },
      "execution_count": 34,
      "outputs": [
        {
          "output_type": "execute_result",
          "data": {
            "text/plain": [
              "20.73333333333334"
            ]
          },
          "metadata": {},
          "execution_count": 34
        }
      ]
    },
    {
      "cell_type": "code",
      "source": [
        "y_estimate= mean(y_guess) #that is equal to your y_estimate "
      ],
      "metadata": {
        "id": "TYsmYaxl7PQq"
      },
      "execution_count": 35,
      "outputs": []
    },
    {
      "cell_type": "code",
      "source": [
        "y_estimate# this is your y estimate."
      ],
      "metadata": {
        "colab": {
          "base_uri": "https://localhost:8080/"
        },
        "id": "n6OmoJ7l7Ppa",
        "outputId": "11d48d76-33e1-4003-8f1e-c51bff6132e0"
      },
      "execution_count": 36,
      "outputs": [
        {
          "output_type": "execute_result",
          "data": {
            "text/plain": [
              "20.73333333333334"
            ]
          },
          "metadata": {},
          "execution_count": 36
        }
      ]
    },
    {
      "cell_type": "code",
      "source": [
        "objects=['Candle', 'Water Bottle', 'Lysol Spray', 'Used Tape Role',\n",
        "       'Poker Chip']"
      ],
      "metadata": {
        "id": "BUG33vRP7P1s"
      },
      "execution_count": 37,
      "outputs": []
    },
    {
      "cell_type": "code",
      "source": [
        "objects[0]"
      ],
      "metadata": {
        "colab": {
          "base_uri": "https://localhost:8080/",
          "height": 35
        },
        "id": "bGthuLYL-8TE",
        "outputId": "c3465a90-2b96-42e7-f3bb-70c8077b017f"
      },
      "execution_count": 38,
      "outputs": [
        {
          "output_type": "execute_result",
          "data": {
            "text/plain": [
              "'Candle'"
            ],
            "application/vnd.google.colaboratory.intrinsic+json": {
              "type": "string"
            }
          },
          "metadata": {},
          "execution_count": 38
        }
      ]
    },
    {
      "cell_type": "code",
      "source": [
        "plt.title('Linear Fit of Circles') #this is the linear fit graph\n",
        "\n",
        "plt.xlabel('Diameter in Cm')# x and y axis labels\n",
        "plt.ylabel('Circumference in Cm')\n",
        "\n",
        "# Plot the collected data\n",
        "plt.plot( a ,b, label ='Candle', marker='o', color='blue') #data from your table with labels and color\n",
        "plt.plot(c,d, label= 'Water Bottle', marker='o',color='blue')\n",
        "plt.plot(e,f, label= 'Lysol Spray', marker='o',color='blue')\n",
        "plt.plot(g,h, label= 'Used Tape Roll', marker='o',color='blue')\n",
        "plt.plot(i,j, label= 'Poker Chip', marker='o',color='blue')\n",
        "\n",
        "y_estimate = best_m * x + best_b\n",
        "# Plot the line of best fit\n",
        "plt.plot(x,y_guess,'r', label=f'Estimate: $y = m x + b$')#line of best fit plot equation\n",
        "print(best_loss,best_m,best_b)\n",
        "plt.legend();"
      ],
      "metadata": {
        "id": "xe8G9X7DqACm",
        "colab": {
          "base_uri": "https://localhost:8080/",
          "height": 312
        },
        "outputId": "786f5c43-86c7-4a1a-9161-ed0788bc521b"
      },
      "execution_count": 39,
      "outputs": [
        {
          "output_type": "stream",
          "name": "stdout",
          "text": [
            "12.917774747474773 3.030303030303031 3.030303030303031\n"
          ]
        },
        {
          "output_type": "display_data",
          "data": {
            "text/plain": [
              "<Figure size 432x288 with 1 Axes>"
            ],
            "image/png": "[encoded data removed]"
          },
          "metadata": {
            "needs_background": "light"
          }
        }
      ]
    },
    {
      "cell_type": "code",
      "source": [
        "plt.title('Linear Fit of Circles')\n",
        "# The same table just different colored plots.\n",
        "plt.xlabel('Diameter in Cm')\n",
        "plt.ylabel('Circumference in Cm')\n",
        "\n",
        "# Plot the collected data\n",
        "plt.plot( a ,b, label ='Candle', marker='o')\n",
        "plt.plot(c,d, label= 'Water Bottle', marker='o')\n",
        "plt.plot(e,f, label= 'Lysol Spray', marker='o')\n",
        "plt.plot(g,h, label= 'Used Tape Roll', marker='o')\n",
        "plt.plot(i,j, label= 'Poker Chip', marker='o')\n",
        "\n",
        "y_estimate = best_m * x + best_b\n",
        "# Plot the line of best fit\n",
        "plt.plot(x,y_guess,'r', label=f'Estimate: $y = m x + b$')\n",
        "print(best_loss,best_m,best_b)\n",
        "plt.legend();"
      ],
      "metadata": {
        "colab": {
          "base_uri": "https://localhost:8080/",
          "height": 312
        },
        "id": "oDufzACcVl5X",
        "outputId": "68630737-32e9-4436-d849-f3545b00fb31"
      },
      "execution_count": 40,
      "outputs": [
        {
          "output_type": "stream",
          "name": "stdout",
          "text": [
            "12.917774747474773 3.030303030303031 3.030303030303031\n"
          ]
        },
        {
          "output_type": "display_data",
          "data": {
            "text/plain": [
              "<Figure size 432x288 with 1 Axes>"
            ],
            "image/png": "[encoded data removed]"
          },
          "metadata": {
            "needs_background": "light"
          }
        }
      ]
    },
    {
      "cell_type": "code",
      "source": [
        "m= 3.03 #Slope\n",
        "b= 12.92 #where the line will end up.\n"
      ],
      "metadata": {
        "id": "fODETQ4M7fKR"
      },
      "execution_count": 41,
      "outputs": []
    },
    {
      "cell_type": "markdown",
      "source": [
        "The estimated relationship is:\n",
        "\n",
        "$C = m D + b$"
      ],
      "metadata": {
        "id": "4zCAPG3upXN9"
      }
    },
    {
      "cell_type": "code",
      "source": [
        "C = m * D + b"
      ],
      "metadata": {
        "id": "WCGrUYdr7lTt"
      },
      "execution_count": 42,
      "outputs": []
    },
    {
      "cell_type": "markdown",
      "source": [
        "## Part 3: Interpretation\n",
        "\n",
        "Answer the questions in text cells"
      ],
      "metadata": {
        "id": "7FBlUtdwt_hd"
      }
    },
    {
      "cell_type": "markdown",
      "source": [
        "#### Question 1:\n",
        "\n",
        "What do $m$ and $b$ represent in these equations?"
      ],
      "metadata": {
        "id": "9xIvwJhOuGDh"
      }
    },
    {
      "cell_type": "markdown",
      "source": [
        "m is equal to the slope of the equation while b is representitve of weather the function is going up and or down. for instance if b=-2 the line would go down two and if b=4 the the line on the graph would go up 4."
      ],
      "metadata": {
        "id": "OC_Ja53Yugfn"
      }
    },
    {
      "cell_type": "markdown",
      "source": [
        "#### Question 2:\n",
        "\n",
        "Guess what the correct values $m$ and $b$ should be."
      ],
      "metadata": {
        "id": "_7xl4z8kubLo"
      }
    },
    {
      "cell_type": "markdown",
      "source": [
        "m= 3.03\n",
        "b= 12.92\n"
      ],
      "metadata": {
        "id": "Te_52DvOuhZ-"
      }
    },
    {
      "cell_type": "markdown",
      "source": [
        "#### Question 3:\n",
        "\n",
        "Does it make sense to include $b$ in the parameters?"
      ],
      "metadata": {
        "id": "2yrRt2wMubSC"
      }
    },
    {
      "cell_type": "markdown",
      "source": [
        "Yes because it shows the line of best fit and it is neccessary to find y."
      ],
      "metadata": {
        "id": "F0gbHr8_uiWi"
      }
    },
    {
      "cell_type": "markdown",
      "source": [
        "## Bonus:\n",
        "\n",
        "These problems are extra credit. You may use any resources, but be sure to explain your code."
      ],
      "metadata": {
        "id": "_3LN79rPujMz"
      }
    },
    {
      "cell_type": "markdown",
      "source": [
        "#### Bonus 1: Plot the squared errors from your line of best fit"
      ],
      "metadata": {
        "id": "wk0Ox4nqvFcT"
      }
    },
    {
      "cell_type": "code",
      "source": [
        "print(\"Constant predictor\")\n",
        "\n",
        "print(\"\\tTrain mean-squared error: %.3f\"\n",
        "      % mean_squared_error(y_train, \n",
        "                           np.full_like(y_train, y_train.mean())))\n",
        "print(\"\\tTest mean-squared error: %.3f\"\n",
        "      % mean_squared_error(y_test, \n",
        "                           np.full_like(y_test, y_train.mean())))"
      ],
      "metadata": {
        "colab": {
          "base_uri": "https://localhost:8080/",
          "height": 252
        },
        "id": "kRnu1QPFY1NO",
        "outputId": "5ca01508-3944-4a7c-a02c-1c5a0f60b5d6"
      },
      "execution_count": null,
      "outputs": [
        {
          "output_type": "stream",
          "name": "stdout",
          "text": [
            "Constant predictor\n"
          ]
        },
        {
          "output_type": "error",
          "ename": "NameError",
          "evalue": "ignored",
          "traceback": [
            "\u001b[0;31m---------------------------------------------------------------------------\u001b[0m",
            "\u001b[0;31mNameError\u001b[0m                                 Traceback (most recent call last)",
            "\u001b[0;32m<ipython-input-280-d4db8dc71bfe>\u001b[0m in \u001b[0;36m<module>\u001b[0;34m\u001b[0m\n\u001b[1;32m      2\u001b[0m \u001b[0;34m\u001b[0m\u001b[0m\n\u001b[1;32m      3\u001b[0m print(\"\\tTrain mean-squared error: %.3f\"\n\u001b[0;32m----> 4\u001b[0;31m       % mean_squared_error(y_train, \n\u001b[0m\u001b[1;32m      5\u001b[0m                            np.full_like(y_train, y_train.mean())))\n\u001b[1;32m      6\u001b[0m print(\"\\tTest mean-squared error: %.3f\"\n",
            "\u001b[0;31mNameError\u001b[0m: name 'mean_squared_error' is not defined"
          ]
        }
      ]
    },
    {
      "cell_type": "code",
      "source": [
        "plt.title(\"Fit Errors\")\n",
        "\n",
        "plt.xlabel(\"Diameter\")\n",
        "plt.ylabel(\"Squared Error\")\n",
        "\n",
        "pred = model.predict(x_test)\n",
        "\n",
        "squared_error = metrics.mean_squared_error(pred,y_test)\n",
        "\n",
        "plt.plot(..., 'b.', label = \"Errors\")\n",
        "\n",
        "plt.legend();"
      ],
      "metadata": {
        "id": "O8IQn-B_vXAN",
        "colab": {
          "base_uri": "https://localhost:8080/",
          "height": 130
        },
        "outputId": "8021db2e-e674-401e-9cb3-6a2868a69100"
      },
      "execution_count": null,
      "outputs": [
        {
          "output_type": "error",
          "ename": "SyntaxError",
          "evalue": "ignored",
          "traceback": [
            "\u001b[0;36m  File \u001b[0;32m\"<ipython-input-279-5bb343339739>\"\u001b[0;36m, line \u001b[0;32m8\u001b[0m\n\u001b[0;31m    squared_error =\u001b[0m\n\u001b[0m                   ^\u001b[0m\n\u001b[0;31mSyntaxError\u001b[0m\u001b[0;31m:\u001b[0m invalid syntax\n"
          ]
        }
      ]
    },
    {
      "cell_type": "markdown",
      "source": [
        "#### Bonus 2: Plot the errors as a histogram"
      ],
      "metadata": {
        "id": "ojVobjtBwK9o"
      }
    },
    {
      "cell_type": "code",
      "source": [
        "plt.title(\"Errors\")\n",
        "\n",
        "plt.hist();"
      ],
      "metadata": {
        "id": "WJkR3s9kwujU"
      },
      "execution_count": null,
      "outputs": []
    },
    {
      "cell_type": "markdown",
      "source": [
        "What distribution does this histogram look like?"
      ],
      "metadata": {
        "id": "k9nm1qADyFiA"
      }
    },
    {
      "cell_type": "markdown",
      "source": [],
      "metadata": {
        "id": "r2Vo3k0xyKiK"
      }
    },
    {
      "cell_type": "markdown",
      "source": [
        "#### Bonus 3: Find the circle with the largest error. \n",
        "Hint: use np.max"
      ],
      "metadata": {
        "id": "qfDuImTvrF5V"
      }
    },
    {
      "cell_type": "markdown",
      "source": [
        "#### Bonus 4: Remove the circles with the 2 largest errors and run the fit again.\n"
      ],
      "metadata": {
        "id": "oQCq4D4uwZ7I"
      }
    },
    {
      "cell_type": "code",
      "source": [
        "..."
      ],
      "metadata": {
        "id": "EjddA54wwKPY"
      },
      "execution_count": null,
      "outputs": []
    },
    {
      "cell_type": "markdown",
      "source": [
        "What is the difference in your error?"
      ],
      "metadata": {
        "id": "V2jyayR-yOvF"
      }
    },
    {
      "cell_type": "markdown",
      "source": [],
      "metadata": {
        "id": "F1ZCdkHyyY9x"
      }
    },
    {
      "cell_type": "markdown",
      "source": [
        "#### Bonus 5: Find and explain a better method of fitting this data"
      ],
      "metadata": {
        "id": "1y-okVy_w22o"
      }
    },
    {
      "cell_type": "code",
      "source": [],
      "metadata": {
        "id": "sfOiajQCxH_7"
      },
      "execution_count": null,
      "outputs": []
    }
  ]
}