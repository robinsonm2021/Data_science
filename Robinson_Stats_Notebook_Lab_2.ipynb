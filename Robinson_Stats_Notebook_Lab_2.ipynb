{
  "nbformat": 4,
  "nbformat_minor": 0,
  "metadata": {
    "colab": {
      "provenance": [],
      "collapsed_sections": [
        "uyjEf07CYSNo",
        "HZ9Qa6M5as4J",
        "O2TyYiZwzjjC"
      ],
      "authorship_tag": "ABX9TyMBnSnHwjYKV5DAm4IBNK8U",
      "include_colab_link": true
    },
    "kernelspec": {
      "name": "python3",
      "display_name": "Python 3"
    },
    "language_info": {
      "name": "python"
    }
  },
  "cells": [
    {
      "cell_type": "markdown",
      "metadata": {
        "id": "view-in-github",
        "colab_type": "text"
      },
      "source": [
        "<a href=\"https://colab.research.google.com/github/robinsonm2021/Data_science/blob/main/Robinson_Stats_Notebook_Lab_2.ipynb\" target=\"_parent\"><img src=\"https://colab.research.google.com/assets/colab-badge.svg\" alt=\"Open In Colab\"/></a>"
      ]
    },
    {
      "cell_type": "markdown",
      "source": [
        "####Stats Notebook Lab #2"
      ],
      "metadata": {
        "id": "TQmEhvjoXeHG"
      }
    },
    {
      "cell_type": "markdown",
      "source": [
        "###Math Typesetting"
      ],
      "metadata": {
        "id": "uyjEf07CYSNo"
      }
    },
    {
      "cell_type": "markdown",
      "source": [
        "apple=8"
      ],
      "metadata": {
        "id": "XwC5EYLRYiMC"
      }
    },
    {
      "cell_type": "markdown",
      "source": [
        "<img src =\"https://www.applesfromny.com/wp-content/uploads/2020/06/SnapdragonNEW.png\">"
      ],
      "metadata": {
        "id": "lCniMUoNY1sR"
      }
    },
    {
      "cell_type": "markdown",
      "source": [
        "###text styles"
      ],
      "metadata": {
        "id": "HZ9Qa6M5as4J"
      }
    },
    {
      "cell_type": "markdown",
      "source": [
        "1-#= section 1, "
      ],
      "metadata": {
        "id": "et0Mv4EUaysl"
      }
    },
    {
      "cell_type": "markdown",
      "source": [
        "$x$"
      ],
      "metadata": {
        "id": "nh5KA0mlbGvk"
      }
    },
    {
      "cell_type": "code",
      "source": [
        "7"
      ],
      "metadata": {
        "colab": {
          "base_uri": "https://localhost:8080/"
        },
        "id": "5nWn0F0T4XA5",
        "outputId": "cbf70bc1-61a8-4ebb-a06f-cf1c658d1c70"
      },
      "execution_count": null,
      "outputs": [
        {
          "output_type": "execute_result",
          "data": {
            "text/plain": [
              "7"
            ]
          },
          "metadata": {},
          "execution_count": 44
        }
      ]
    },
    {
      "cell_type": "markdown",
      "source": [
        "$y=m x+ b$"
      ],
      "metadata": {
        "id": "98BIVbIdbQ3Y"
      }
    },
    {
      "cell_type": "markdown",
      "source": [
        "$\\frac{a}{b}$"
      ],
      "metadata": {
        "id": "IDjGBv2Kbf5M"
      }
    },
    {
      "cell_type": "markdown",
      "source": [
        "$a^$"
      ],
      "metadata": {
        "id": "bSZI5aeOcTlk"
      }
    },
    {
      "cell_type": "markdown",
      "source": [
        "$a^b$"
      ],
      "metadata": {
        "id": "pf3aX-XEbjuG"
      }
    },
    {
      "cell_type": "markdown",
      "source": [
        "$f(x) = \\frac{1}{\\sigma\\sqrt{2\\pi}}e^{-\\frac{1}{2}(\\frac{x-\\mu}{\\sigma})^2}$"
      ],
      "metadata": {
        "id": "ZrlipReZcaOc"
      }
    },
    {
      "cell_type": "markdown",
      "source": [],
      "metadata": {
        "id": "m1C1u-TFcazY"
      }
    },
    {
      "cell_type": "markdown",
      "source": [
        "$a_b$"
      ],
      "metadata": {
        "id": "wijfNklpca3D"
      }
    },
    {
      "cell_type": "markdown",
      "source": [
        "###Pie charts"
      ],
      "metadata": {
        "id": "O2TyYiZwzjjC"
      }
    },
    {
      "cell_type": "code",
      "source": [
        "import matplotlib.pyplot as plt"
      ],
      "metadata": {
        "id": "vQ72qwy4XcHM"
      },
      "execution_count": null,
      "outputs": []
    },
    {
      "cell_type": "code",
      "source": [
        "# Pie chart, where the slices will be ordered and plotted counter-clockwise:\n",
        "x = [10, 50, 30, 20]\n",
        "labels = ['Surfing', 'Soccer', 'Baseball', 'Lacrosse']\n",
        "\n",
        "fig, ax = plt.subplots()\n",
        "ax.pie(x, labels=labels)\n",
        "ax.set_title('Sport Popularity')\n",
        "plt.tight_layout()"
      ],
      "metadata": {
        "id": "VVS5vwbUXcKB",
        "colab": {
          "base_uri": "https://localhost:8080/",
          "height": 297
        },
        "outputId": "a2c4563c-d110-4bcd-810d-948813b0054e"
      },
      "execution_count": null,
      "outputs": [
        {
          "output_type": "display_data",
          "data": {
            "text/plain": [
              "<Figure size 432x288 with 1 Axes>"
            ],
            "image/png": "[encoded data removed]"
          },
          "metadata": {}
        }
      ]
    },
    {
      "cell_type": "markdown",
      "source": [
        "text strings"
      ],
      "metadata": {
        "id": "ZOvJ5zNA0PEv"
      }
    },
    {
      "cell_type": "code",
      "source": [
        "name = 'Matthew'\n",
        "\n",
        "output = f\"Hello, My name is {name}.\"\n",
        "\n",
        "print(output)"
      ],
      "metadata": {
        "id": "ySh-kdDbXcMv",
        "colab": {
          "base_uri": "https://localhost:8080/"
        },
        "outputId": "8b9405fc-8d47-4fad-eb69-4e2f369e9149"
      },
      "execution_count": null,
      "outputs": [
        {
          "output_type": "stream",
          "name": "stdout",
          "text": [
            "Hello, My name is Matthew.\n"
          ]
        }
      ]
    },
    {
      "cell_type": "markdown",
      "source": [
        "Files"
      ],
      "metadata": {
        "id": "Kk7eRBPX1GFo"
      }
    },
    {
      "cell_type": "code",
      "source": [
        "f = open(\"hello.txt\", 'w')\n",
        "\n",
        "data = \"Hello World\"\n",
        "print(data,  file=f)\n",
        "\n",
        "f.close()"
      ],
      "metadata": {
        "id": "l4ne5_UyXcPo"
      },
      "execution_count": null,
      "outputs": []
    },
    {
      "cell_type": "code",
      "source": [
        "f = open('hello.txt', 'r')\n",
        "    \n",
        "lines = f.readlines()\n",
        "print(lines)\n",
        "\n",
        "f.close()"
      ],
      "metadata": {
        "id": "lbtT4T49XcSj",
        "colab": {
          "base_uri": "https://localhost:8080/"
        },
        "outputId": "26ad1d06-c5f7-4b55-c4d9-f6f7c60a42c9"
      },
      "execution_count": null,
      "outputs": [
        {
          "output_type": "stream",
          "name": "stdout",
          "text": [
            "['Hello World\\n']\n"
          ]
        }
      ]
    }
  ]
}